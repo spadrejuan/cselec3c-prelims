{
 "cells": [
  {
   "cell_type": "markdown",
   "metadata": {},
   "source": [
    "## Overview\n",
    "<a href=\"https://archive.ics.uci.edu/ml/datasets/online+retail\">Online retail</a> is a transnational dataset which contains all the transactions occurring between 01/12/2010 and 09/12/2011 for a UK-based and registered non-store online retail. The company mainly sells unique all-occasion gifts. Many customers of the company are wholesalers.\n",
    "\n",
    "## Source\n",
    "UCI Machine Learning Repository: https://archive.ics.uci.edu/ml/datasets/online+retail\n",
    "\n",
    "## Business Goal\n",
    "To segment the Customers based on RFM so that the company can target its customers efficiently."
   ]
  },
  {
   "cell_type": "markdown",
   "metadata": {
    "ExecuteTime": {
     "end_time": "2020-11-01T10:16:54.581653Z",
     "start_time": "2020-11-01T10:16:54.570637Z"
    }
   },
   "source": [
    "## Methodology\n",
    "\n",
    "1. [Reading and Understanding the Data](#1) <br>\n",
    "    a. Creating a Data Dictionary\n",
    "2. [Data Cleaning](#2)\n",
    "3. [Data Preparation](#3) <br>\n",
    "    a. Scaling Variables\n",
    "4. [Model Building](#4) <br>\n",
    "    a. K-means Clustering <br>\n",
    "    b. Finding the Optimal K\n",
    "5. [Final Analysis](#5)"
   ]
  },
  {
   "cell_type": "markdown",
   "metadata": {},
   "source": [
    "<a id=\"1\"></a> <br>\n",
    "### 1 : Reading and Understanding Data"
   ]
  },
  {
   "cell_type": "code",
   "execution_count": null,
   "metadata": {
    "ExecuteTime": {
     "end_time": "2020-11-01T13:14:00.815005Z",
     "start_time": "2020-11-01T13:13:56.682079Z"
    }
   },
   "outputs": [],
   "source": [
    "# import required libraries for dataframe and visualization\n",
    "\n",
    "import numpy as np\n",
    "import pandas as pd\n",
    "import matplotlib.pyplot as plt\n",
    "import seaborn as sns\n",
    "import datetime as dt\n",
    "import plotly as py \n",
    "import plotly.graph_objs as go\n",
    "\n",
    "from plotly.offline import init_notebook_mode, plot, iplot\n",
    "init_notebook_mode(connected=True)\n",
    "\n",
    "# import required libraries for clustering\n",
    "import sklearn\n",
    "from sklearn.preprocessing import StandardScaler\n",
    "from sklearn.cluster import KMeans\n",
    "from sklearn.metrics import silhouette_score\n",
    "from scipy.cluster.hierarchy import linkage\n",
    "from scipy.cluster.hierarchy import dendrogram\n",
    "from scipy.cluster.hierarchy import cut_tree"
   ]
  },
  {
   "cell_type": "code",
   "execution_count": 30,
   "metadata": {
    "ExecuteTime": {
     "end_time": "2020-11-01T13:14:02.085599Z",
     "start_time": "2020-11-01T13:14:00.818009Z"
    }
   },
   "outputs": [],
   "source": [
    "# Reading the data on which analysis needs to be done\n",
    "retail = pd.read_csv('dataset/OnlineRetail.csv', encoding='ISO-8859-1')"
   ]
  },
  {
   "cell_type": "markdown",
   "metadata": {},
   "source": [
    "#### Data Dictionary \n",
    "\n",
    "First Header  | Definition    |  Description  | Data Type\n",
    "------------- | ------------- | ------------- | -------------\n",
    "InvoiceNo  | Invoice number | A 6-digit integral number uniquely assigned to each transaction. If this code starts with letter 'c', it indicates a cancellation. | Nominal\n",
    "StockCode | Product (item) code | A 5-digit integral number uniquely assigned to each distinct product. | Nominal\n",
    "Description | Product (item) name | Name of Product | Nominal\n",
    "Quantity | Quantity | The quantities of each product (item) per transaction | Numeric\n",
    "InvoiceDate | Invoice Date and time | The day and time when each transaction was generated. | Numeric\n",
    "UnitPrice | Unit price | Product price per unit in sterling. | Numeric\n",
    "CustomerID | Customer number | A 5-digit integral number uniquely assigned to each customer. | Nominal\n",
    "Country | Country name | The name of the country where each customer resides. | Nominal"
   ]
  },
  {
   "cell_type": "code",
   "execution_count": 31,
   "metadata": {
    "ExecuteTime": {
     "end_time": "2020-11-01T13:14:02.105605Z",
     "start_time": "2020-11-01T13:14:02.093577Z"
    }
   },
   "outputs": [],
   "source": [
    "# shape of df\n"
   ]
  },
  {
   "cell_type": "code",
   "execution_count": null,
   "metadata": {
    "ExecuteTime": {
     "end_time": "2020-11-01T13:14:02.369113Z",
     "start_time": "2020-11-01T13:14:02.112580Z"
    }
   },
   "outputs": [],
   "source": []
  },
  {
   "cell_type": "code",
   "execution_count": 32,
   "metadata": {
    "ExecuteTime": {
     "end_time": "2020-11-01T13:14:02.490124Z",
     "start_time": "2020-11-01T13:14:02.373115Z"
    }
   },
   "outputs": [],
   "source": [
    "# df description\n"
   ]
  },
  {
   "cell_type": "markdown",
   "metadata": {},
   "source": [
    "<a id=\"2\"></a> <br>\n",
    "### 2 : Data Cleaning"
   ]
  },
  {
   "cell_type": "code",
   "execution_count": 33,
   "metadata": {
    "ExecuteTime": {
     "end_time": "2020-11-01T13:14:02.686138Z",
     "start_time": "2020-11-01T13:14:02.492125Z"
    }
   },
   "outputs": [],
   "source": [
    "# Calculating the Missing Values % contribution in DF\n"
   ]
  },
  {
   "cell_type": "code",
   "execution_count": 34,
   "metadata": {
    "ExecuteTime": {
     "end_time": "2020-11-01T13:14:02.884178Z",
     "start_time": "2020-11-01T13:14:02.691137Z"
    }
   },
   "outputs": [],
   "source": [
    "# Droping rows having missing values\n"
   ]
  },
  {
   "cell_type": "code",
   "execution_count": 35,
   "metadata": {
    "ExecuteTime": {
     "end_time": "2020-11-01T13:14:03.209183Z",
     "start_time": "2020-11-01T13:14:02.890175Z"
    }
   },
   "outputs": [],
   "source": [
    "# Changing the datatype of Customer Id as per Business understanding\n"
   ]
  },
  {
   "cell_type": "markdown",
   "metadata": {},
   "source": [
    "<a id=\"3\"></a> <br>\n",
    "### 3 : Data Preparation"
   ]
  },
  {
   "cell_type": "markdown",
   "metadata": {},
   "source": [
    "#### Customers will be analyzed based on 3 factors:\n",
    "- R (Recency): Number of days since last purchase\n",
    "- F (Frequency): Number of tracsactions\n",
    "- M (Monetary): Total amount of transactions (revenue contributed)"
   ]
  },
  {
   "cell_type": "code",
   "execution_count": 36,
   "metadata": {
    "ExecuteTime": {
     "end_time": "2020-11-01T13:14:03.401194Z",
     "start_time": "2020-11-01T13:14:03.215186Z"
    }
   },
   "outputs": [],
   "source": [
    "# New Attribute : Monetary\n"
   ]
  },
  {
   "cell_type": "code",
   "execution_count": 37,
   "metadata": {
    "ExecuteTime": {
     "end_time": "2020-11-01T13:14:03.494236Z",
     "start_time": "2020-11-01T13:14:03.404192Z"
    }
   },
   "outputs": [],
   "source": [
    "# New Attribute : Frequency\n"
   ]
  },
  {
   "cell_type": "code",
   "execution_count": 38,
   "metadata": {
    "ExecuteTime": {
     "end_time": "2020-11-01T13:14:03.522238Z",
     "start_time": "2020-11-01T13:14:03.496236Z"
    },
    "scrolled": true
   },
   "outputs": [],
   "source": [
    "# Merging the two dfs\n"
   ]
  },
  {
   "cell_type": "code",
   "execution_count": 39,
   "metadata": {
    "ExecuteTime": {
     "end_time": "2020-11-01T13:14:03.759256Z",
     "start_time": "2020-11-01T13:14:03.525239Z"
    }
   },
   "outputs": [],
   "source": [
    "# New Attribute : Recency\n",
    "\n",
    "# Convert to datetime to proper datatype\n"
   ]
  },
  {
   "cell_type": "code",
   "execution_count": 40,
   "metadata": {
    "ExecuteTime": {
     "end_time": "2020-11-01T13:14:05.278371Z",
     "start_time": "2020-11-01T13:14:03.763256Z"
    }
   },
   "outputs": [],
   "source": [
    "# Compute the maximum date to know the last transaction date\n",
    "\n"
   ]
  },
  {
   "cell_type": "code",
   "execution_count": 41,
   "metadata": {
    "ExecuteTime": {
     "end_time": "2020-11-01T13:14:05.318375Z",
     "start_time": "2020-11-01T13:14:05.281374Z"
    }
   },
   "outputs": [],
   "source": [
    "# Compute the difference between max date and transaction date\n"
   ]
  },
  {
   "cell_type": "code",
   "execution_count": 42,
   "metadata": {
    "ExecuteTime": {
     "end_time": "2020-11-01T13:14:05.386380Z",
     "start_time": "2020-11-01T13:14:05.322375Z"
    }
   },
   "outputs": [],
   "source": [
    "# Compute last transaction date to get the recency of customers\n"
   ]
  },
  {
   "cell_type": "code",
   "execution_count": 43,
   "metadata": {
    "ExecuteTime": {
     "end_time": "2020-11-01T13:14:05.406382Z",
     "start_time": "2020-11-01T13:14:05.389387Z"
    }
   },
   "outputs": [],
   "source": [
    "# Extract number of days only\n",
    "\n"
   ]
  },
  {
   "cell_type": "code",
   "execution_count": 44,
   "metadata": {
    "ExecuteTime": {
     "end_time": "2020-11-01T13:14:05.457385Z",
     "start_time": "2020-11-01T13:14:05.411382Z"
    }
   },
   "outputs": [],
   "source": [
    "# Merge tha dataframes to get the final RFM dataframe\n"
   ]
  },
  {
   "cell_type": "markdown",
   "metadata": {},
   "source": [
    "Exploratory Data Analysis "
   ]
  },
  {
   "cell_type": "code",
   "execution_count": null,
   "metadata": {},
   "outputs": [],
   "source": [
    "# Histogram #1: Number of Transactions per Customer\n",
    "\n",
    "transactions_per_customer = retail.groupby('CustomerID').size()\n",
    "\n",
    "plt.figure(figsize=(10, 6))\n",
    "plt.hist(transactions_per_customer, bins=50, edgecolor='black')\n",
    "\n",
    "plt.title('Number of Transactions per Customer', fontsize=16)\n",
    "plt.xlabel('Number of Transactions', fontsize=14)\n",
    "plt.ylabel('Number of Customers', fontsize=14)\n",
    "\n",
    "plt.show()"
   ]
  },
  {
   "cell_type": "code",
   "execution_count": null,
   "metadata": {},
   "outputs": [],
   "source": [
    "# Histogram # 2\n",
    "item_counts = retail['Description'].value_counts().sort_values(ascending=False).iloc[0:15]\n",
    "plt.figure(figsize=(18,6))\n",
    "sns.barplot(x=item_counts.index, y=item_counts.values, palette=sns.cubehelix_palette(15))\n",
    "plt.ylabel(\"Counts\")\n",
    "plt.title(\"Which items were bought more often?\")\n",
    "plt.xticks(rotation=90)"
   ]
  },
  {
   "cell_type": "code",
   "execution_count": null,
   "metadata": {},
   "outputs": [],
   "source": [
    "retail['TotalSales'] = retail['Quantity'] * retail['UnitPrice']\n",
    "\n",
    "# Group by StockCode and calculate the total sales per product\n",
    "sales_by_stockcode = retail.groupby('StockCode')['TotalSales'].sum()\n",
    "\n",
    "sales_by_stockcode = sales_by_stockcode[sales_by_stockcode > 0]\n",
    "\n",
    "plt.figure(figsize=(12, 6))\n",
    "\n",
    "plt.subplot(1, 2, 1)  # 1 row, 2 columns, 1st subplot\n",
    "plt.boxplot(sales_by_stockcode, vert=False, patch_artist=True, boxprops=dict(facecolor='skyblue', color='black'))\n",
    "plt.title('Boxplot of Total Sales Value by StockCode', fontsize=16)\n",
    "plt.xlabel('Total Sales Value', fontsize=14)\n",
    "log_sales_by_stockcode = np.log(sales_by_stockcode)\n",
    "\n",
    "\n",
    "plt.subplot(1, 2, 2)  \n",
    "plt.boxplot(log_sales_by_stockcode, vert=False, patch_artist=True, boxprops=dict(facecolor='lightgreen', color='black'))\n",
    "plt.title('Boxplot of Log-Transformed Total Sales Value by StockCode', fontsize=16)\n",
    "plt.xlabel('Log(Total Sales Value)', fontsize=14)\n",
    "\n",
    "plt.tight_layout()\n",
    "plt.show()\n"
   ]
  },
  {
   "cell_type": "code",
   "execution_count": null,
   "metadata": {},
   "outputs": [],
   "source": [
    "# Correlation heatmap\n",
    "\n",
    "# Select relevant columns and drop any rows with NaN values\n",
    "data = retail[['Quantity', 'UnitPrice']]\n",
    "\n",
    "# Calculate the correlation matrix\n",
    "correlation_matrix = data.corr()\n",
    "\n",
    "# Set the size of the heatmap\n",
    "plt.figure(figsize=(8, 6))\n",
    "\n",
    "# Create the heatmap using Seaborn\n",
    "sns.heatmap(correlation_matrix, annot=True, cmap='coolwarm', center=0, square=True, linewidths=0.5)\n",
    "\n",
    "# Add titles and labels\n",
    "plt.title('Correlation Heatmap between Quantity and UnitPrice', fontsize=16)\n",
    "plt.xticks(rotation=45, fontsize=12)\n",
    "plt.yticks(rotation=45, fontsize=12)\n",
    "\n",
    "# Show the heatmap\n",
    "plt.tight_layout()\n",
    "plt.show()\n"
   ]
  },
  {
   "cell_type": "markdown",
   "metadata": {},
   "source": [
    "#### Rescaling the Attributes\n",
    "\n",
    "It is extremely important to rescale the variables so that they have a comparable scale.<br>\n",
    "There are two common ways of rescaling:\n",
    "\n",
    "1. Min-Max scaling \n",
    "2. Standardization (mean-0, sigma-1) \n",
    "\n",
    "Here we execute Standard Scaling."
   ]
  },
  {
   "cell_type": "code",
   "execution_count": 48,
   "metadata": {
    "ExecuteTime": {
     "end_time": "2020-11-01T13:14:05.483386Z",
     "start_time": "2020-11-01T13:14:05.460385Z"
    }
   },
   "outputs": [],
   "source": [
    "# Rescaling the attributes\n",
    "\n",
    "# Instantiate\n",
    "\n",
    "# fit_transform\n"
   ]
  },
  {
   "cell_type": "code",
   "execution_count": null,
   "metadata": {
    "ExecuteTime": {
     "end_time": "2020-11-01T13:14:05.505389Z",
     "start_time": "2020-11-01T13:14:05.487388Z"
    }
   },
   "outputs": [],
   "source": []
  },
  {
   "cell_type": "markdown",
   "metadata": {},
   "source": [
    "## <span style=\"color: red;\">Execute MinMax Scaling in the next box</span> "
   ]
  },
  {
   "cell_type": "code",
   "execution_count": null,
   "metadata": {},
   "outputs": [],
   "source": []
  },
  {
   "cell_type": "markdown",
   "metadata": {},
   "source": [
    "<a id=\"4\"></a> <br>\n",
    "### 4 : Building the Model"
   ]
  },
  {
   "cell_type": "markdown",
   "metadata": {},
   "source": [
    "### K-Means Clustering"
   ]
  },
  {
   "cell_type": "markdown",
   "metadata": {},
   "source": [
    "K-means clustering is one of the simplest and popular unsupervised machine learning algorithms.<br>\n",
    "\n",
    "The algorithm works as follows:\n",
    "\n",
    "- First we initialize k points, called means, randomly.\n",
    "- We categorize each item to its closest mean and we update the mean’s coordinates, which are the averages of the items categorized in that mean so far.\n",
    "- We repeat the process for a given number of iterations and at the end, we have our clusters."
   ]
  },
  {
   "cell_type": "code",
   "execution_count": 49,
   "metadata": {
    "ExecuteTime": {
     "end_time": "2020-11-01T13:14:05.629395Z",
     "start_time": "2020-11-01T13:14:05.508388Z"
    }
   },
   "outputs": [],
   "source": [
    "# k-means with some arbitrary k\n"
   ]
  },
  {
   "cell_type": "code",
   "execution_count": 50,
   "metadata": {
    "ExecuteTime": {
     "end_time": "2020-11-01T13:14:05.651399Z",
     "start_time": "2020-11-01T13:14:05.644399Z"
    }
   },
   "outputs": [],
   "source": [
    "#create a K_means function here\n"
   ]
  },
  {
   "cell_type": "code",
   "execution_count": 51,
   "metadata": {
    "ExecuteTime": {
     "end_time": "2020-11-01T13:53:55.898917Z",
     "start_time": "2020-11-01T13:53:55.746885Z"
    }
   },
   "outputs": [],
   "source": [
    "#plot your clusters\n"
   ]
  },
  {
   "cell_type": "markdown",
   "metadata": {},
   "source": [
    "## <span style=\"color: red;\">Finding the Optimal Number of Clusters</span> "
   ]
  },
  {
   "cell_type": "markdown",
   "metadata": {},
   "source": [
    "#### Elbow Curve to get the right number of Clusters\n",
    "A fundamental step for any unsupervised algorithm is to determine the optimal number of clusters into which the data may be clustered. The Elbow Method is one of the most popular methods to determine this optimal value of k."
   ]
  },
  {
   "cell_type": "code",
   "execution_count": null,
   "metadata": {
    "ExecuteTime": {
     "end_time": "2020-11-01T11:11:02.144287Z",
     "start_time": "2020-11-01T11:11:01.193847Z"
    }
   },
   "outputs": [],
   "source": []
  },
  {
   "cell_type": "markdown",
   "metadata": {},
   "source": [
    "## <span style=\"color: red;\">Box Plots of Clusters created</span> "
   ]
  },
  {
   "cell_type": "code",
   "execution_count": null,
   "metadata": {},
   "outputs": [],
   "source": []
  },
  {
   "cell_type": "markdown",
   "metadata": {},
   "source": [
    "<a id=\"5\"></a> <br>\n",
    "## Step 5 : Final Analysis"
   ]
  },
  {
   "cell_type": "markdown",
   "metadata": {},
   "source": [
    "## <span style=\"color: red;\">Findings</span> "
   ]
  },
  {
   "cell_type": "code",
   "execution_count": null,
   "metadata": {},
   "outputs": [],
   "source": []
  },
  {
   "cell_type": "markdown",
   "metadata": {},
   "source": [
    "#### Student Name:"
   ]
  }
 ],
 "metadata": {
  "kernelspec": {
   "display_name": "Python 3",
   "language": "python",
   "name": "python3"
  },
  "language_info": {
   "codemirror_mode": {
    "name": "ipython",
    "version": 3
   },
   "file_extension": ".py",
   "mimetype": "text/x-python",
   "name": "python",
   "nbconvert_exporter": "python",
   "pygments_lexer": "ipython3",
   "version": "3.12.1"
  }
 },
 "nbformat": 4,
 "nbformat_minor": 1
}
