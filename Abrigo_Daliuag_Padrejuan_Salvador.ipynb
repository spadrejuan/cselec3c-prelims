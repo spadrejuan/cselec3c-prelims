{
 "cells": [
  {
   "cell_type": "markdown",
   "metadata": {},
   "source": [
    "## Overview\n",
    "<a href=\"https://archive.ics.uci.edu/ml/datasets/online+retail\">Online retail</a> is a transnational dataset which contains all the transactions occurring between 01/12/2010 and 09/12/2011 for a UK-based and registered non-store online retail. The company mainly sells unique all-occasion gifts. Many customers of the company are wholesalers.\n",
    "\n",
    "## Source\n",
    "UCI Machine Learning Repository: https://archive.ics.uci.edu/ml/datasets/online+retail\n",
    "\n",
    "## Business Goal\n",
    "To segment the Customers based on RFM so that the company can target its customers efficiently."
   ]
  },
  {
   "cell_type": "markdown",
   "metadata": {
    "ExecuteTime": {
     "end_time": "2020-11-01T10:16:54.581653Z",
     "start_time": "2020-11-01T10:16:54.570637Z"
    }
   },
   "source": [
    "## Methodology\n",
    "\n",
    "1. [Reading and Understanding the Data](#1) <br>\n",
    "    a. Creating a Data Dictionary\n",
    "2. [Data Cleaning](#2)\n",
    "3. [Data Preparation](#3) <br>\n",
    "    a. Scaling Variables\n",
    "4. [Model Building](#4) <br>\n",
    "    a. K-means Clustering <br>\n",
    "    b. Finding the Optimal K\n",
    "5. [Final Analysis](#5)"
   ]
  },
  {
   "cell_type": "markdown",
   "metadata": {},
   "source": [
    "<a id=\"1\"></a> <br>\n",
    "### 1 : Data Preprocessing"
   ]
  },
  {
   "cell_type": "code",
   "execution_count": 68,
   "metadata": {
    "ExecuteTime": {
     "end_time": "2020-11-01T13:14:00.815005Z",
     "start_time": "2020-11-01T13:13:56.682079Z"
    }
   },
   "outputs": [
    {
     "data": {
      "text/html": [
       "        <script type=\"text/javascript\">\n",
       "        window.PlotlyConfig = {MathJaxConfig: 'local'};\n",
       "        if (window.MathJax && window.MathJax.Hub && window.MathJax.Hub.Config) {window.MathJax.Hub.Config({SVG: {font: \"STIX-Web\"}});}\n",
       "        if (typeof require !== 'undefined') {\n",
       "        require.undef(\"plotly\");\n",
       "        requirejs.config({\n",
       "            paths: {\n",
       "                'plotly': ['https://cdn.plot.ly/plotly-2.34.0.min']\n",
       "            }\n",
       "        });\n",
       "        require(['plotly'], function(Plotly) {\n",
       "            window._Plotly = Plotly;\n",
       "        });\n",
       "        }\n",
       "        </script>\n",
       "        "
      ]
     },
     "metadata": {},
     "output_type": "display_data"
    }
   ],
   "source": [
    "# import required libraries for dataframe and visualization\n",
    "\n",
    "import numpy as np\n",
    "import pandas as pd\n",
    "import matplotlib.pyplot as plt\n",
    "import seaborn as sns\n",
    "import datetime as dt\n",
    "import plotly as py \n",
    "import plotly.graph_objs as go\n",
    "from plotly.offline import init_notebook_mode, plot, iplot\n",
    "init_notebook_mode(connected=True)\n",
    "\n",
    "# import required libraries for clustering\n",
    "import sklearn\n",
    "from sklearn.preprocessing import StandardScaler\n",
    "from sklearn.cluster import KMeans\n",
    "from sklearn.metrics import silhouette_score\n",
    "from scipy.cluster.hierarchy import linkage\n",
    "from scipy.cluster.hierarchy import dendrogram\n",
    "from scipy.cluster.hierarchy import cut_tree"
   ]
  },
  {
   "cell_type": "code",
   "execution_count": 69,
   "metadata": {
    "ExecuteTime": {
     "end_time": "2020-11-01T13:14:02.085599Z",
     "start_time": "2020-11-01T13:14:00.818009Z"
    }
   },
   "outputs": [
    {
     "data": {
      "text/html": [
       "<div>\n",
       "<style scoped>\n",
       "    .dataframe tbody tr th:only-of-type {\n",
       "        vertical-align: middle;\n",
       "    }\n",
       "\n",
       "    .dataframe tbody tr th {\n",
       "        vertical-align: top;\n",
       "    }\n",
       "\n",
       "    .dataframe thead th {\n",
       "        text-align: right;\n",
       "    }\n",
       "</style>\n",
       "<table border=\"1\" class=\"dataframe\">\n",
       "  <thead>\n",
       "    <tr style=\"text-align: right;\">\n",
       "      <th></th>\n",
       "      <th>InvoiceNo</th>\n",
       "      <th>StockCode</th>\n",
       "      <th>Description</th>\n",
       "      <th>Quantity</th>\n",
       "      <th>InvoiceDate</th>\n",
       "      <th>UnitPrice</th>\n",
       "      <th>CustomerID</th>\n",
       "      <th>Country</th>\n",
       "    </tr>\n",
       "  </thead>\n",
       "  <tbody>\n",
       "    <tr>\n",
       "      <th>0</th>\n",
       "      <td>536365</td>\n",
       "      <td>85123A</td>\n",
       "      <td>WHITE HANGING HEART T-LIGHT HOLDER</td>\n",
       "      <td>6</td>\n",
       "      <td>01-12-2010 08:26</td>\n",
       "      <td>2.55</td>\n",
       "      <td>17850.0</td>\n",
       "      <td>United Kingdom</td>\n",
       "    </tr>\n",
       "    <tr>\n",
       "      <th>1</th>\n",
       "      <td>536365</td>\n",
       "      <td>71053</td>\n",
       "      <td>WHITE METAL LANTERN</td>\n",
       "      <td>6</td>\n",
       "      <td>01-12-2010 08:26</td>\n",
       "      <td>3.39</td>\n",
       "      <td>17850.0</td>\n",
       "      <td>United Kingdom</td>\n",
       "    </tr>\n",
       "    <tr>\n",
       "      <th>2</th>\n",
       "      <td>536365</td>\n",
       "      <td>84406B</td>\n",
       "      <td>CREAM CUPID HEARTS COAT HANGER</td>\n",
       "      <td>8</td>\n",
       "      <td>01-12-2010 08:26</td>\n",
       "      <td>2.75</td>\n",
       "      <td>17850.0</td>\n",
       "      <td>United Kingdom</td>\n",
       "    </tr>\n",
       "    <tr>\n",
       "      <th>3</th>\n",
       "      <td>536365</td>\n",
       "      <td>84029G</td>\n",
       "      <td>KNITTED UNION FLAG HOT WATER BOTTLE</td>\n",
       "      <td>6</td>\n",
       "      <td>01-12-2010 08:26</td>\n",
       "      <td>3.39</td>\n",
       "      <td>17850.0</td>\n",
       "      <td>United Kingdom</td>\n",
       "    </tr>\n",
       "    <tr>\n",
       "      <th>4</th>\n",
       "      <td>536365</td>\n",
       "      <td>84029E</td>\n",
       "      <td>RED WOOLLY HOTTIE WHITE HEART.</td>\n",
       "      <td>6</td>\n",
       "      <td>01-12-2010 08:26</td>\n",
       "      <td>3.39</td>\n",
       "      <td>17850.0</td>\n",
       "      <td>United Kingdom</td>\n",
       "    </tr>\n",
       "    <tr>\n",
       "      <th>5</th>\n",
       "      <td>536365</td>\n",
       "      <td>22752</td>\n",
       "      <td>SET 7 BABUSHKA NESTING BOXES</td>\n",
       "      <td>2</td>\n",
       "      <td>01-12-2010 08:26</td>\n",
       "      <td>7.65</td>\n",
       "      <td>17850.0</td>\n",
       "      <td>United Kingdom</td>\n",
       "    </tr>\n",
       "    <tr>\n",
       "      <th>6</th>\n",
       "      <td>536365</td>\n",
       "      <td>21730</td>\n",
       "      <td>GLASS STAR FROSTED T-LIGHT HOLDER</td>\n",
       "      <td>6</td>\n",
       "      <td>01-12-2010 08:26</td>\n",
       "      <td>4.25</td>\n",
       "      <td>17850.0</td>\n",
       "      <td>United Kingdom</td>\n",
       "    </tr>\n",
       "    <tr>\n",
       "      <th>7</th>\n",
       "      <td>536366</td>\n",
       "      <td>22633</td>\n",
       "      <td>HAND WARMER UNION JACK</td>\n",
       "      <td>6</td>\n",
       "      <td>01-12-2010 08:28</td>\n",
       "      <td>1.85</td>\n",
       "      <td>17850.0</td>\n",
       "      <td>United Kingdom</td>\n",
       "    </tr>\n",
       "    <tr>\n",
       "      <th>8</th>\n",
       "      <td>536366</td>\n",
       "      <td>22632</td>\n",
       "      <td>HAND WARMER RED POLKA DOT</td>\n",
       "      <td>6</td>\n",
       "      <td>01-12-2010 08:28</td>\n",
       "      <td>1.85</td>\n",
       "      <td>17850.0</td>\n",
       "      <td>United Kingdom</td>\n",
       "    </tr>\n",
       "    <tr>\n",
       "      <th>9</th>\n",
       "      <td>536367</td>\n",
       "      <td>84879</td>\n",
       "      <td>ASSORTED COLOUR BIRD ORNAMENT</td>\n",
       "      <td>32</td>\n",
       "      <td>01-12-2010 08:34</td>\n",
       "      <td>1.69</td>\n",
       "      <td>13047.0</td>\n",
       "      <td>United Kingdom</td>\n",
       "    </tr>\n",
       "  </tbody>\n",
       "</table>\n",
       "</div>"
      ],
      "text/plain": [
       "  InvoiceNo StockCode                          Description  Quantity  \\\n",
       "0    536365    85123A   WHITE HANGING HEART T-LIGHT HOLDER         6   \n",
       "1    536365     71053                  WHITE METAL LANTERN         6   \n",
       "2    536365    84406B       CREAM CUPID HEARTS COAT HANGER         8   \n",
       "3    536365    84029G  KNITTED UNION FLAG HOT WATER BOTTLE         6   \n",
       "4    536365    84029E       RED WOOLLY HOTTIE WHITE HEART.         6   \n",
       "5    536365     22752         SET 7 BABUSHKA NESTING BOXES         2   \n",
       "6    536365     21730    GLASS STAR FROSTED T-LIGHT HOLDER         6   \n",
       "7    536366     22633               HAND WARMER UNION JACK         6   \n",
       "8    536366     22632            HAND WARMER RED POLKA DOT         6   \n",
       "9    536367     84879        ASSORTED COLOUR BIRD ORNAMENT        32   \n",
       "\n",
       "        InvoiceDate  UnitPrice  CustomerID         Country  \n",
       "0  01-12-2010 08:26       2.55     17850.0  United Kingdom  \n",
       "1  01-12-2010 08:26       3.39     17850.0  United Kingdom  \n",
       "2  01-12-2010 08:26       2.75     17850.0  United Kingdom  \n",
       "3  01-12-2010 08:26       3.39     17850.0  United Kingdom  \n",
       "4  01-12-2010 08:26       3.39     17850.0  United Kingdom  \n",
       "5  01-12-2010 08:26       7.65     17850.0  United Kingdom  \n",
       "6  01-12-2010 08:26       4.25     17850.0  United Kingdom  \n",
       "7  01-12-2010 08:28       1.85     17850.0  United Kingdom  \n",
       "8  01-12-2010 08:28       1.85     17850.0  United Kingdom  \n",
       "9  01-12-2010 08:34       1.69     13047.0  United Kingdom  "
      ]
     },
     "execution_count": 69,
     "metadata": {},
     "output_type": "execute_result"
    }
   ],
   "source": [
    "# Reading the data on which analysis needs to be done\n",
    "retail = pd.read_csv('dataset/OnlineRetail.csv', encoding='ISO-8859-1')\n",
    "# Display first 10 rows\n",
    "retail.head(10)"
   ]
  },
  {
   "cell_type": "markdown",
   "metadata": {},
   "source": [
    "#### Data Dictionary \n",
    "\n",
    "First Header  | Definition    |  Description  | Data Type\n",
    "------------- | ------------- | ------------- | -------------\n",
    "InvoiceNo  | Invoice number | A 6-digit integral number uniquely assigned to each transaction. If this code starts with letter 'c', it indicates a cancellation. | Nominal\n",
    "StockCode | Product (item) code | A 5-digit integral number uniquely assigned to each distinct product. | Nominal\n",
    "Description | Product (item) name | Name of Product | Nominal\n",
    "Quantity | Quantity | The quantities of each product (item) per transaction | Numeric\n",
    "InvoiceDate | Invoice Date and time | The day and time when each transaction was generated. | Numeric\n",
    "UnitPrice | Unit price | Product price per unit in sterling. | Numeric\n",
    "CustomerID | Customer number | A 5-digit integral number uniquely assigned to each customer. | Nominal\n",
    "Country | Country name | The name of the country where each customer resides. | Nominal"
   ]
  },
  {
   "cell_type": "markdown",
   "metadata": {},
   "source": [
    "### Missing Values"
   ]
  },
  {
   "cell_type": "code",
   "execution_count": 70,
   "metadata": {},
   "outputs": [
    {
     "data": {
      "image/png": "[encoded data removed]",
      "text/plain": [
       "<Figure size 1000x600 with 1 Axes>"
      ]
     },
     "metadata": {},
     "output_type": "display_data"
    }
   ],
   "source": [
    "missing_values = retail.isnull().sum()\n",
    "\n",
    "# Filter columns with missing values (optional, can remove if you want all columns)\n",
    "missing_values = missing_values[missing_values > 0]\n",
    "\n",
    "# Plot the missing values\n",
    "plt.figure(figsize=(10, 6))\n",
    "missing_values.plot(kind='bar', color='skyblue')\n",
    "\n",
    "# Add labels and title\n",
    "plt.title('Missing Values per Column', fontsize=16)\n",
    "plt.xlabel('Columns', fontsize=12)\n",
    "plt.ylabel('Number of Missing Values', fontsize=12)\n",
    "\n",
    "# Show the plot\n",
    "plt.show()"
   ]
  },
  {
   "cell_type": "markdown",
   "metadata": {},
   "source": [
    "As we can see, the majority of the missing values is in the Customer ID. Since Customer ID is a sensitive column, and we cannot make justifications o assumptions of the number of customers coming in to buy as it may cause some data inconsistencies and be the cause of misrepresentation of sensitive sales data, we drop the missing values."
   ]
  },
  {
   "cell_type": "code",
   "execution_count": 71,
   "metadata": {},
   "outputs": [],
   "source": [
    "# Dropping the null customer id rows\n",
    "retail_cleaned = retail.copy()\n",
    "retail_cleaned = retail_cleaned.dropna(subset=['CustomerID'])"
   ]
  },
  {
   "cell_type": "markdown",
   "metadata": {},
   "source": [
    "We try to derive the meaning of the descriptions of the items using Stock Code, and try to fill in missing values "
   ]
  },
  {
   "cell_type": "code",
   "execution_count": 72,
   "metadata": {},
   "outputs": [],
   "source": [
    "stock_code_to_description = retail_cleaned.dropna(subset=['Description']).set_index('StockCode')['Description'].to_dict()\n",
    "\n",
    "# Fill missing descriptions using the dictionary\n",
    "retail_cleaned['Description'] = retail_cleaned.apply(\n",
    "    lambda row: stock_code_to_description.get(row['StockCode']) if pd.isnull(row['Description']) else row['Description'],\n",
    "    axis=1\n",
    ")\n",
    "\n",
    "# Drop rows where the description is still missing\n",
    "df_cleaned = retail_cleaned.dropna(subset=['Description'])"
   ]
  },
  {
   "cell_type": "markdown",
   "metadata": {},
   "source": [
    "Check if missing values are no more"
   ]
  },
  {
   "cell_type": "code",
   "execution_count": 73,
   "metadata": {},
   "outputs": [
    {
     "name": "stdout",
     "output_type": "stream",
     "text": [
      "<class 'pandas.core.frame.DataFrame'>\n",
      "Index: 406829 entries, 0 to 541908\n",
      "Data columns (total 8 columns):\n",
      " #   Column       Non-Null Count   Dtype  \n",
      "---  ------       --------------   -----  \n",
      " 0   InvoiceNo    406829 non-null  object \n",
      " 1   StockCode    406829 non-null  object \n",
      " 2   Description  406829 non-null  object \n",
      " 3   Quantity     406829 non-null  int64  \n",
      " 4   InvoiceDate  406829 non-null  object \n",
      " 5   UnitPrice    406829 non-null  float64\n",
      " 6   CustomerID   406829 non-null  float64\n",
      " 7   Country      406829 non-null  object \n",
      "dtypes: float64(2), int64(1), object(5)\n",
      "memory usage: 27.9+ MB\n"
     ]
    }
   ],
   "source": [
    "retail_cleaned.info()"
   ]
  },
  {
   "cell_type": "markdown",
   "metadata": {},
   "source": [
    "<a id=\"2\"></a> <br>\n",
    "### 2 : Data Cleaning"
   ]
  },
  {
   "cell_type": "code",
   "execution_count": 74,
   "metadata": {
    "ExecuteTime": {
     "end_time": "2020-11-01T13:14:02.686138Z",
     "start_time": "2020-11-01T13:14:02.492125Z"
    }
   },
   "outputs": [
    {
     "name": "stdout",
     "output_type": "stream",
     "text": [
      "CustomerID     24.926694\n",
      "Description     0.268311\n",
      "dtype: float64\n"
     ]
    }
   ],
   "source": [
    "# Calculating the Missing Values % contribution in DF\n",
    "total_rows = len(retail)\n",
    "\n",
    "# Calculate the number of missing values per column\n",
    "missing_values = retail.isnull().sum()\n",
    "\n",
    "# Calculate the percentage of missing values per column\n",
    "missing_percentage = (missing_values / total_rows) * 100\n",
    "\n",
    "# Filter only columns with missing values (optional, can remove if you want all columns)\n",
    "missing_percentage = missing_percentage[missing_percentage > 0]\n",
    "\n",
    "# Display the missing percentage for each column\n",
    "missing_percentage = missing_percentage.sort_values(ascending=False)\n",
    "print(missing_percentage)\n"
   ]
  },
  {
   "cell_type": "code",
   "execution_count": 75,
   "metadata": {
    "ExecuteTime": {
     "end_time": "2020-11-01T13:14:02.884178Z",
     "start_time": "2020-11-01T13:14:02.691137Z"
    }
   },
   "outputs": [],
   "source": [
    "# Droping rows having missing values\n"
   ]
  },
  {
   "cell_type": "code",
   "execution_count": 76,
   "metadata": {
    "ExecuteTime": {
     "end_time": "2020-11-01T13:14:03.209183Z",
     "start_time": "2020-11-01T13:14:02.890175Z"
    }
   },
   "outputs": [],
   "source": [
    "# Changing the datatype of Customer Id as per Business understanding\n"
   ]
  },
  {
   "cell_type": "markdown",
   "metadata": {},
   "source": [
    "<a id=\"3\"></a> <br>\n",
    "### 3 : Data Preparation"
   ]
  },
  {
   "cell_type": "markdown",
   "metadata": {},
   "source": [
    "#### Customers will be analyzed based on 3 factors:\n",
    "- R (Recency): Number of days since last purchase\n",
    "- F (Frequency): Number of tracsactions\n",
    "- M (Monetary): Total amount of transactions (revenue contributed)"
   ]
  },
  {
   "cell_type": "code",
   "execution_count": 77,
   "metadata": {
    "ExecuteTime": {
     "end_time": "2020-11-01T13:14:03.401194Z",
     "start_time": "2020-11-01T13:14:03.215186Z"
    }
   },
   "outputs": [],
   "source": [
    "# New Attribute : Monetary\n"
   ]
  },
  {
   "cell_type": "code",
   "execution_count": 78,
   "metadata": {
    "ExecuteTime": {
     "end_time": "2020-11-01T13:14:03.494236Z",
     "start_time": "2020-11-01T13:14:03.404192Z"
    }
   },
   "outputs": [],
   "source": [
    "# New Attribute : Frequency\n"
   ]
  },
  {
   "cell_type": "code",
   "execution_count": 79,
   "metadata": {
    "ExecuteTime": {
     "end_time": "2020-11-01T13:14:03.522238Z",
     "start_time": "2020-11-01T13:14:03.496236Z"
    },
    "scrolled": true
   },
   "outputs": [],
   "source": [
    "# Merging the two dfs\n"
   ]
  },
  {
   "cell_type": "code",
   "execution_count": 80,
   "metadata": {
    "ExecuteTime": {
     "end_time": "2020-11-01T13:14:03.759256Z",
     "start_time": "2020-11-01T13:14:03.525239Z"
    }
   },
   "outputs": [],
   "source": [
    "# New Attribute : Recency\n",
    "\n",
    "# Convert to datetime to proper datatype\n"
   ]
  },
  {
   "cell_type": "code",
   "execution_count": 81,
   "metadata": {
    "ExecuteTime": {
     "end_time": "2020-11-01T13:14:05.278371Z",
     "start_time": "2020-11-01T13:14:03.763256Z"
    }
   },
   "outputs": [],
   "source": [
    "# Compute the maximum date to know the last transaction date\n",
    "\n"
   ]
  },
  {
   "cell_type": "code",
   "execution_count": 82,
   "metadata": {
    "ExecuteTime": {
     "end_time": "2020-11-01T13:14:05.318375Z",
     "start_time": "2020-11-01T13:14:05.281374Z"
    }
   },
   "outputs": [],
   "source": [
    "# Compute the difference between max date and transaction date\n"
   ]
  },
  {
   "cell_type": "code",
   "execution_count": 83,
   "metadata": {
    "ExecuteTime": {
     "end_time": "2020-11-01T13:14:05.386380Z",
     "start_time": "2020-11-01T13:14:05.322375Z"
    }
   },
   "outputs": [],
   "source": [
    "# Compute last transaction date to get the recency of customers\n"
   ]
  },
  {
   "cell_type": "code",
   "execution_count": 84,
   "metadata": {
    "ExecuteTime": {
     "end_time": "2020-11-01T13:14:05.406382Z",
     "start_time": "2020-11-01T13:14:05.389387Z"
    }
   },
   "outputs": [],
   "source": [
    "# Extract number of days only\n",
    "\n"
   ]
  },
  {
   "cell_type": "code",
   "execution_count": 85,
   "metadata": {
    "ExecuteTime": {
     "end_time": "2020-11-01T13:14:05.457385Z",
     "start_time": "2020-11-01T13:14:05.411382Z"
    }
   },
   "outputs": [],
   "source": [
    "# Merge tha dataframes to get the final RFM dataframe\n"
   ]
  },
  {
   "cell_type": "markdown",
   "metadata": {},
   "source": [
    "### Exploratory Data Analysis"
   ]
  },
  {
   "cell_type": "code",
   "execution_count": null,
   "metadata": {},
   "outputs": [],
   "source": [
    "# Histogram #1: Number of Transactions per Customer\n",
    "\n",
    "transactions_per_customer = retail.groupby('CustomerID').size()\n",
    "\n",
    "plt.figure(figsize=(10, 6))\n",
    "plt.hist(transactions_per_customer, bins=50, edgecolor='black')\n",
    "\n",
    "plt.title('Number of Transactions per Customer', fontsize=16)\n",
    "plt.xlabel('Number of Transactions', fontsize=14)\n",
    "plt.ylabel('Number of Customers', fontsize=14)\n",
    "\n",
    "plt.show()"
   ]
  },
  {
   "cell_type": "code",
   "execution_count": null,
   "metadata": {},
   "outputs": [],
   "source": [
    "# Histogram # 2\n",
    "item_counts = retail['Description'].value_counts().sort_values(ascending=False).iloc[0:15]\n",
    "plt.figure(figsize=(18,6))\n",
    "sns.barplot(x=item_counts.index, y=item_counts.values, palette=sns.cubehelix_palette(15))\n",
    "plt.ylabel(\"Counts\")\n",
    "plt.title(\"Which items were bought more often?\")\n",
    "plt.xticks(rotation=90)"
   ]
  },
  {
   "cell_type": "code",
   "execution_count": null,
   "metadata": {},
   "outputs": [],
   "source": [
    "retail['TotalSales'] = retail['Quantity'] * retail['UnitPrice']\n",
    "\n",
    "# Group by StockCode and calculate the total sales per product\n",
    "sales_by_stockcode = retail.groupby('StockCode')['TotalSales'].sum()\n",
    "\n",
    "sales_by_stockcode = sales_by_stockcode[sales_by_stockcode > 0]\n",
    "\n",
    "plt.figure(figsize=(12, 6))\n",
    "\n",
    "plt.subplot(1, 2, 1)  # 1 row, 2 columns, 1st subplot\n",
    "plt.boxplot(sales_by_stockcode, vert=False, patch_artist=True, boxprops=dict(facecolor='skyblue', color='black'))\n",
    "plt.title('Boxplot of Total Sales Value by StockCode', fontsize=16)\n",
    "plt.xlabel('Total Sales Value', fontsize=14)\n",
    "log_sales_by_stockcode = np.log(sales_by_stockcode)\n",
    "\n",
    "\n",
    "plt.subplot(1, 2, 2)  \n",
    "plt.boxplot(log_sales_by_stockcode, vert=False, patch_artist=True, boxprops=dict(facecolor='lightgreen', color='black'))\n",
    "plt.title('Boxplot of Log-Transformed Total Sales Value by StockCode', fontsize=16)\n",
    "plt.xlabel('Log(Total Sales Value)', fontsize=14)\n",
    "\n",
    "plt.tight_layout()\n",
    "plt.show()\n"
   ]
  },
  {
   "cell_type": "code",
   "execution_count": null,
   "metadata": {},
   "outputs": [],
   "source": [
    "# Correlation heatmap\n",
    "\n",
    "# Select relevant columns and drop any rows with NaN values\n",
    "data = retail[['Quantity', 'UnitPrice']]\n",
    "\n",
    "# Calculate the correlation matrix\n",
    "correlation_matrix = data.corr()\n",
    "\n",
    "# Set the size of the heatmap\n",
    "plt.figure(figsize=(8, 6))\n",
    "\n",
    "# Create the heatmap using Seaborn\n",
    "sns.heatmap(correlation_matrix, annot=True, cmap='coolwarm', center=0, square=True, linewidths=0.5)\n",
    "\n",
    "# Add titles and labels\n",
    "plt.title('Correlation Heatmap between Quantity and UnitPrice', fontsize=16)\n",
    "plt.xticks(rotation=45, fontsize=12)\n",
    "plt.yticks(rotation=45, fontsize=12)\n",
    "\n",
    "# Show the heatmap\n",
    "plt.tight_layout()\n",
    "plt.show()"
   ]
  },
  {
   "cell_type": "markdown",
   "metadata": {},
   "source": [
    "#### Rescaling the Attributes\n",
    "\n",
    "It is extremely important to rescale the variables so that they have a comparable scale.<br>\n",
    "There are two common ways of rescaling:\n",
    "\n",
    "1. Min-Max scaling \n",
    "2. Standardization (mean-0, sigma-1) \n",
    "\n",
    "Here we execute Standard Scaling."
   ]
  },
  {
   "cell_type": "code",
   "execution_count": 86,
   "metadata": {
    "ExecuteTime": {
     "end_time": "2020-11-01T13:14:05.483386Z",
     "start_time": "2020-11-01T13:14:05.460385Z"
    }
   },
   "outputs": [],
   "source": [
    "# Rescaling the attributes\n",
    "\n",
    "# Instantiate\n",
    "\n",
    "# fit_transform\n"
   ]
  },
  {
   "cell_type": "code",
   "execution_count": 92,
   "metadata": {
    "ExecuteTime": {
     "end_time": "2020-11-01T13:14:05.505389Z",
     "start_time": "2020-11-01T13:14:05.487388Z"
    }
   },
   "outputs": [
    {
     "name": "stdout",
     "output_type": "stream",
     "text": [
      "Index(['InvoiceNo', 'StockCode', 'Description', 'Quantity', 'InvoiceDate',\n",
      "       'UnitPrice', 'CustomerID', 'Country'],\n",
      "      dtype='object')\n",
      "Missing values before scaling:\n",
      "Quantity     0\n",
      "UnitPrice    0\n",
      "dtype: int64\n"
     ]
    },
    {
     "data": {
      "image/png": "[encoded data removed]",
      "text/plain": [
       "<Figure size 1000x500 with 2 Axes>"
      ]
     },
     "metadata": {},
     "output_type": "display_data"
    }
   ],
   "source": [
    "import pandas as pd\n",
    "import numpy as np\n",
    "import matplotlib.pyplot as plt\n",
    "from sklearn.preprocessing import MinMaxScaler\n",
    "\n",
    "# Sample DataFrame for demonstration\n",
    "# Assume retail_cleaned is already defined and contains relevant numeric columns\n",
    "\n",
    "# Check if the DataFrame contains the necessary columns for scaling\n",
    "print(retail_cleaned.columns)\n",
    "\n",
    "# Create a copy of the DataFrame for scaling to avoid altering the original data\n",
    "df_to_scale = retail_cleaned[['Quantity', 'UnitPrice']].copy()\n",
    "\n",
    "# Check for NaN values and handle them if necessary\n",
    "print(\"Missing values before scaling:\")\n",
    "print(df_to_scale.isnull().sum())\n",
    "\n",
    "# Fill or drop NaN values as appropriate\n",
    "# For example, dropping rows with NaN values:\n",
    "df_to_scale = df_to_scale.dropna()\n",
    "\n",
    "# Apply Min-Max scaling\n",
    "min_max_scaler = MinMaxScaler()\n",
    "df_normalized = pd.DataFrame(min_max_scaler.fit_transform(df_to_scale), columns=df_to_scale.columns)\n",
    "\n",
    "# Plot before and after Min-Max scaling\n",
    "plt.figure(figsize=(10, 5))\n",
    "\n",
    "# Before transformation\n",
    "plt.subplot(1, 2, 1)\n",
    "plt.scatter(df_to_scale['Quantity'], df_to_scale['UnitPrice'], color='blue')\n",
    "plt.title('Before Transformation')\n",
    "plt.xlabel('Quantity')\n",
    "plt.ylabel('UnitPrice')\n",
    "\n",
    "# After Min-Max scaling\n",
    "plt.subplot(1, 2, 2)\n",
    "plt.scatter(df_normalized['Quantity'], df_normalized['UnitPrice'], color='orange')\n",
    "plt.title('After Min-Max Scaling')\n",
    "plt.xlabel('Quantity (Normalized)')\n",
    "plt.ylabel('UnitPrice (Normalized)')\n",
    "\n",
    "plt.tight_layout()\n",
    "plt.show()\n"
   ]
  },
  {
   "cell_type": "markdown",
   "metadata": {},
   "source": [
    "## <span style=\"color: red;\">Execute MinMax Scaling in the next box</span> "
   ]
  },
  {
   "cell_type": "code",
   "execution_count": null,
   "metadata": {},
   "outputs": [],
   "source": []
  },
  {
   "cell_type": "markdown",
   "metadata": {},
   "source": [
    "<a id=\"4\"></a> <br>\n",
    "### 4 : Building the Model"
   ]
  },
  {
   "cell_type": "markdown",
   "metadata": {},
   "source": [
    "### K-Means Clustering"
   ]
  },
  {
   "cell_type": "markdown",
   "metadata": {},
   "source": [
    "K-means clustering is one of the simplest and popular unsupervised machine learning algorithms.<br>\n",
    "\n",
    "The algorithm works as follows:\n",
    "\n",
    "- First we initialize k points, called means, randomly.\n",
    "- We categorize each item to its closest mean and we update the mean’s coordinates, which are the averages of the items categorized in that mean so far.\n",
    "- We repeat the process for a given number of iterations and at the end, we have our clusters."
   ]
  },
  {
   "cell_type": "code",
   "execution_count": 88,
   "metadata": {
    "ExecuteTime": {
     "end_time": "2020-11-01T13:14:05.629395Z",
     "start_time": "2020-11-01T13:14:05.508388Z"
    }
   },
   "outputs": [],
   "source": [
    "# k-means with some arbitrary k\n"
   ]
  },
  {
   "cell_type": "code",
   "execution_count": 89,
   "metadata": {
    "ExecuteTime": {
     "end_time": "2020-11-01T13:14:05.651399Z",
     "start_time": "2020-11-01T13:14:05.644399Z"
    }
   },
   "outputs": [],
   "source": [
    "#create a K_means function here\n"
   ]
  },
  {
   "cell_type": "code",
   "execution_count": 90,
   "metadata": {
    "ExecuteTime": {
     "end_time": "2020-11-01T13:53:55.898917Z",
     "start_time": "2020-11-01T13:53:55.746885Z"
    }
   },
   "outputs": [],
   "source": [
    "#plot your clusters\n"
   ]
  },
  {
   "cell_type": "markdown",
   "metadata": {},
   "source": [
    "## <span style=\"color: red;\">Finding the Optimal Number of Clusters</span> "
   ]
  },
  {
   "cell_type": "markdown",
   "metadata": {},
   "source": [
    "#### Elbow Curve to get the right number of Clusters\n",
    "A fundamental step for any unsupervised algorithm is to determine the optimal number of clusters into which the data may be clustered. The Elbow Method is one of the most popular methods to determine this optimal value of k."
   ]
  },
  {
   "cell_type": "code",
   "execution_count": null,
   "metadata": {
    "ExecuteTime": {
     "end_time": "2020-11-01T11:11:02.144287Z",
     "start_time": "2020-11-01T11:11:01.193847Z"
    }
   },
   "outputs": [],
   "source": []
  },
  {
   "cell_type": "markdown",
   "metadata": {},
   "source": [
    "## <span style=\"color: red;\">Box Plots of Clusters created</span> "
   ]
  },
  {
   "cell_type": "code",
   "execution_count": null,
   "metadata": {},
   "outputs": [],
   "source": []
  },
  {
   "cell_type": "markdown",
   "metadata": {},
   "source": [
    "<a id=\"5\"></a> <br>\n",
    "## Step 5 : Final Analysis"
   ]
  },
  {
   "cell_type": "markdown",
   "metadata": {},
   "source": [
    "## <span style=\"color: red;\">Findings</span> "
   ]
  },
  {
   "cell_type": "code",
   "execution_count": null,
   "metadata": {},
   "outputs": [],
   "source": []
  },
  {
   "cell_type": "markdown",
   "metadata": {},
   "source": [
    "#### Student Name:"
   ]
  }
 ],
 "metadata": {
  "kernelspec": {
   "display_name": "Python 3",
   "language": "python",
   "name": "python3"
  },
  "language_info": {
   "codemirror_mode": {
    "name": "ipython",
    "version": 3
   },
   "file_extension": ".py",
   "mimetype": "text/x-python",
   "name": "python",
   "nbconvert_exporter": "python",
   "pygments_lexer": "ipython3",
   "version": "3.10.4"
  }
 },
 "nbformat": 4,
 "nbformat_minor": 1
}
