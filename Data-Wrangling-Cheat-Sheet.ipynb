{
 "cells": [
  {
   "cell_type": "markdown",
   "metadata": {},
   "source": [
    "# Importing"
   ]
  },
  {
   "cell_type": "code",
   "execution_count": 1,
   "metadata": {},
   "outputs": [
    {
     "data": {
      "text/html": [
       "<div>\n",
       "<style scoped>\n",
       "    .dataframe tbody tr th:only-of-type {\n",
       "        vertical-align: middle;\n",
       "    }\n",
       "\n",
       "    .dataframe tbody tr th {\n",
       "        vertical-align: top;\n",
       "    }\n",
       "\n",
       "    .dataframe thead th {\n",
       "        text-align: right;\n",
       "    }\n",
       "</style>\n",
       "<table border=\"1\" class=\"dataframe\">\n",
       "  <thead>\n",
       "    <tr style=\"text-align: right;\">\n",
       "      <th></th>\n",
       "      <th>Name</th>\n",
       "      <th>Age</th>\n",
       "      <th>City</th>\n",
       "      <th>Income</th>\n",
       "      <th>Gender</th>\n",
       "    </tr>\n",
       "  </thead>\n",
       "  <tbody>\n",
       "    <tr>\n",
       "      <th>0</th>\n",
       "      <td>John</td>\n",
       "      <td>28</td>\n",
       "      <td>New York</td>\n",
       "      <td>50000.0</td>\n",
       "      <td>Male</td>\n",
       "    </tr>\n",
       "    <tr>\n",
       "      <th>1</th>\n",
       "      <td>Anna</td>\n",
       "      <td>22</td>\n",
       "      <td>Paris</td>\n",
       "      <td>60000.0</td>\n",
       "      <td>Female</td>\n",
       "    </tr>\n",
       "    <tr>\n",
       "      <th>2</th>\n",
       "      <td>Peter</td>\n",
       "      <td>35</td>\n",
       "      <td>Berlin</td>\n",
       "      <td>45000.0</td>\n",
       "      <td>Male</td>\n",
       "    </tr>\n",
       "    <tr>\n",
       "      <th>3</th>\n",
       "      <td>Linda</td>\n",
       "      <td>32</td>\n",
       "      <td>London</td>\n",
       "      <td>75000.0</td>\n",
       "      <td>Female</td>\n",
       "    </tr>\n",
       "    <tr>\n",
       "      <th>4</th>\n",
       "      <td>James</td>\n",
       "      <td>29</td>\n",
       "      <td>New York</td>\n",
       "      <td>NaN</td>\n",
       "      <td>Male</td>\n",
       "    </tr>\n",
       "  </tbody>\n",
       "</table>\n",
       "</div>"
      ],
      "text/plain": [
       "    Name  Age      City   Income  Gender\n",
       "0   John   28  New York  50000.0    Male\n",
       "1   Anna   22     Paris  60000.0  Female\n",
       "2  Peter   35    Berlin  45000.0    Male\n",
       "3  Linda   32    London  75000.0  Female\n",
       "4  James   29  New York      NaN    Male"
      ]
     },
     "execution_count": 1,
     "metadata": {},
     "output_type": "execute_result"
    }
   ],
   "source": [
    "import pandas as pd\n",
    "\n",
    "# Sample data\n",
    "data = {\n",
    "    'Name': ['John', 'Anna', 'Peter', 'Linda', 'James'],\n",
    "    'Age': [28, 22, 35, 32, 29],\n",
    "    'City': ['New York', 'Paris', 'Berlin', 'London', 'New York'],\n",
    "    'Income': [50000, 60000, 45000, 75000, None],\n",
    "    'Gender': ['Male', 'Female', 'Male', 'Female', 'Male']\n",
    "}\n",
    "\n",
    "# Create DataFrame\n",
    "df = pd.DataFrame(data)\n",
    "\n",
    "# View DataFrame\n",
    "df.head()\n",
    "\n"
   ]
  },
  {
   "cell_type": "markdown",
   "metadata": {},
   "source": [
    "# Inspecting"
   ]
  },
  {
   "cell_type": "code",
   "execution_count": 2,
   "metadata": {},
   "outputs": [
    {
     "name": "stdout",
     "output_type": "stream",
     "text": [
      "<class 'pandas.core.frame.DataFrame'>\n",
      "RangeIndex: 5 entries, 0 to 4\n",
      "Data columns (total 5 columns):\n",
      " #   Column  Non-Null Count  Dtype  \n",
      "---  ------  --------------  -----  \n",
      " 0   Name    5 non-null      object \n",
      " 1   Age     5 non-null      int64  \n",
      " 2   City    5 non-null      object \n",
      " 3   Income  4 non-null      float64\n",
      " 4   Gender  5 non-null      object \n",
      "dtypes: float64(1), int64(1), object(3)\n",
      "memory usage: 328.0+ bytes\n"
     ]
    },
    {
     "data": {
      "text/html": [
       "<div>\n",
       "<style scoped>\n",
       "    .dataframe tbody tr th:only-of-type {\n",
       "        vertical-align: middle;\n",
       "    }\n",
       "\n",
       "    .dataframe tbody tr th {\n",
       "        vertical-align: top;\n",
       "    }\n",
       "\n",
       "    .dataframe thead th {\n",
       "        text-align: right;\n",
       "    }\n",
       "</style>\n",
       "<table border=\"1\" class=\"dataframe\">\n",
       "  <thead>\n",
       "    <tr style=\"text-align: right;\">\n",
       "      <th></th>\n",
       "      <th>Age</th>\n",
       "      <th>Income</th>\n",
       "    </tr>\n",
       "  </thead>\n",
       "  <tbody>\n",
       "    <tr>\n",
       "      <th>count</th>\n",
       "      <td>5.000000</td>\n",
       "      <td>4.000000</td>\n",
       "    </tr>\n",
       "    <tr>\n",
       "      <th>mean</th>\n",
       "      <td>29.200000</td>\n",
       "      <td>57500.000000</td>\n",
       "    </tr>\n",
       "    <tr>\n",
       "      <th>std</th>\n",
       "      <td>4.868265</td>\n",
       "      <td>13228.756555</td>\n",
       "    </tr>\n",
       "    <tr>\n",
       "      <th>min</th>\n",
       "      <td>22.000000</td>\n",
       "      <td>45000.000000</td>\n",
       "    </tr>\n",
       "    <tr>\n",
       "      <th>25%</th>\n",
       "      <td>28.000000</td>\n",
       "      <td>48750.000000</td>\n",
       "    </tr>\n",
       "    <tr>\n",
       "      <th>50%</th>\n",
       "      <td>29.000000</td>\n",
       "      <td>55000.000000</td>\n",
       "    </tr>\n",
       "    <tr>\n",
       "      <th>75%</th>\n",
       "      <td>32.000000</td>\n",
       "      <td>63750.000000</td>\n",
       "    </tr>\n",
       "    <tr>\n",
       "      <th>max</th>\n",
       "      <td>35.000000</td>\n",
       "      <td>75000.000000</td>\n",
       "    </tr>\n",
       "  </tbody>\n",
       "</table>\n",
       "</div>"
      ],
      "text/plain": [
       "             Age        Income\n",
       "count   5.000000      4.000000\n",
       "mean   29.200000  57500.000000\n",
       "std     4.868265  13228.756555\n",
       "min    22.000000  45000.000000\n",
       "25%    28.000000  48750.000000\n",
       "50%    29.000000  55000.000000\n",
       "75%    32.000000  63750.000000\n",
       "max    35.000000  75000.000000"
      ]
     },
     "execution_count": 2,
     "metadata": {},
     "output_type": "execute_result"
    }
   ],
   "source": [
    "# View basic info\n",
    "df.info()\n",
    "\n",
    "# View unique values in a column\n",
    "df['City'].unique()\n",
    "\n",
    "# Check for missing values\n",
    "df.isnull().sum()\n",
    "\n",
    "# Summary statistics (numeric columns)\n",
    "df.describe()\n"
   ]
  },
  {
   "cell_type": "markdown",
   "metadata": {},
   "source": [
    "# Selecting/Subsetting Data"
   ]
  },
  {
   "cell_type": "code",
   "execution_count": 3,
   "metadata": {},
   "outputs": [],
   "source": [
    "# Select specific columns\n",
    "df_subset = df[['Name', 'City']]\n",
    "\n",
    "# Filter rows (e.g., Income greater than 50,000)\n",
    "df_filtered = df[df['Income'] > 50000]\n",
    "\n",
    "# Using `loc` (label-based indexing) to select rows and columns\n",
    "df_loc = df.loc[df['Age'] > 30, ['Name', 'Income']]\n",
    "\n",
    "# Using `iloc` (position-based indexing) to select rows and columns by index\n",
    "df_iloc = df.iloc[0:3, 1:3]  # Select first 3 rows and columns 2 and 3\n"
   ]
  },
  {
   "cell_type": "markdown",
   "metadata": {},
   "source": [
    "# Handling Missing Data"
   ]
  },
  {
   "cell_type": "code",
   "execution_count": 4,
   "metadata": {},
   "outputs": [
    {
     "name": "stderr",
     "output_type": "stream",
     "text": [
      "/var/folders/mp/c7pgmq8j0472f05vnx5h16000000gn/T/ipykernel_6128/4171874053.py:6: FutureWarning: A value is trying to be set on a copy of a DataFrame or Series through chained assignment using an inplace method.\n",
      "The behavior will change in pandas 3.0. This inplace method will never work because the intermediate object on which we are setting values always behaves as a copy.\n",
      "\n",
      "For example, when doing 'df[col].method(value, inplace=True)', try using 'df.method({col: value}, inplace=True)' or df[col] = df[col].method(value) instead, to perform the operation inplace on the original object.\n",
      "\n",
      "\n",
      "  df['Income'].fillna(df['Income'].mean(), inplace=True)\n"
     ]
    }
   ],
   "source": [
    "# Sample with missing data (Income has None for James)\n",
    "# Fill missing values with a specific value (e.g., 0)\n",
    "df_fillna = df.fillna(0)\n",
    "\n",
    "# Fill missing values with the mean of the column\n",
    "df['Income'].fillna(df['Income'].mean(), inplace=True)\n",
    "\n",
    "# Drop rows with missing values\n",
    "df_dropna = df.dropna(subset=['Income'])\n"
   ]
  },
  {
   "cell_type": "markdown",
   "metadata": {},
   "source": [
    "# Renaming Columns"
   ]
  },
  {
   "cell_type": "code",
   "execution_count": 5,
   "metadata": {},
   "outputs": [],
   "source": [
    "# # Rename single column\n",
    "# df.rename(columns={'Income': 'Annual_Income'}, inplace=True)\n",
    "\n",
    "# # Rename multiple columns\n",
    "# df.rename(columns={'Name': 'Full_Name', 'Age': 'Years'}, inplace=True)\n"
   ]
  },
  {
   "cell_type": "markdown",
   "metadata": {},
   "source": [
    "# Handling Duplicates"
   ]
  },
  {
   "cell_type": "code",
   "execution_count": 6,
   "metadata": {},
   "outputs": [],
   "source": [
    "# Add duplicate rows for testing\n",
    "df.loc[5] = ['Anna', 22, 'Paris', 60000, 'Female']  # Duplicate row\n",
    "\n",
    "# Check for duplicates\n",
    "df.duplicated().sum()\n",
    "\n",
    "# Drop duplicate rows\n",
    "df_no_duplicates = df.drop_duplicates()\n",
    "\n",
    "# Drop duplicates based on a specific column\n",
    "df_no_duplicates_city = df.drop_duplicates(subset=['City'])\n"
   ]
  },
  {
   "cell_type": "markdown",
   "metadata": {},
   "source": [
    "# Changing Data Types"
   ]
  },
  {
   "cell_type": "code",
   "execution_count": 7,
   "metadata": {},
   "outputs": [],
   "source": [
    "# Convert 'Age' column to string\n",
    "df['Age'] = df['Age'].astype(str)\n",
    "\n",
    "# Convert 'Income' to numeric (force any invalid parsing to NaN)\n",
    "df['Income'] = pd.to_numeric(df['Income'], errors='coerce')\n",
    "\n",
    "# Convert to datetime (example for date column)\n",
    "# df['Date'] = pd.to_datetime(df['Date'])\n"
   ]
  },
  {
   "cell_type": "markdown",
   "metadata": {},
   "source": [
    "# Creating / Modifying Columns"
   ]
  },
  {
   "cell_type": "code",
   "execution_count": 8,
   "metadata": {},
   "outputs": [],
   "source": [
    "# Create a new column 'Age Category' based on 'Age'\n",
    "df['Age_Category'] = df['Age'].apply(lambda x: 'Young' if int(x) < 30 else 'Adult')\n",
    "\n",
    "# Create a new column combining 'Name' and 'City'\n",
    "df['Name_City'] = df['Name'] + ' from ' + df['City']\n",
    "\n",
    "# Modify columns to uppercase\n",
    "df[['Name', 'City']] = df[['Name', 'City']].apply(lambda x: x.str.upper())\n"
   ]
  },
  {
   "cell_type": "markdown",
   "metadata": {},
   "source": [
    "# Grouping and Aggregating"
   ]
  },
  {
   "cell_type": "code",
   "execution_count": 9,
   "metadata": {},
   "outputs": [],
   "source": [
    "# Group by 'City' and calculate sum of 'Income'\n",
    "grouped_income = df.groupby('City')['Income'].sum()\n",
    "\n",
    "# Group by 'City' and 'Gender' and calculate the mean of 'Income'\n",
    "grouped_stats = df.groupby(['City', 'Gender'])['Income'].mean().reset_index()\n",
    "\n",
    "# Ensure 'Income' and 'Age' columns are numeric\n",
    "df['Income'] = pd.to_numeric(df['Income'], errors='coerce')\n",
    "df['Age'] = pd.to_numeric(df['Age'], errors='coerce')\n",
    "# Multiple aggregations (sum and mean)\n",
    "grouped_multiple = df.groupby('City').agg({'Income': ['sum', 'mean'], 'Age': 'mean'})\n"
   ]
  },
  {
   "cell_type": "markdown",
   "metadata": {},
   "source": [
    "# Sorting Data"
   ]
  },
  {
   "cell_type": "code",
   "execution_count": 10,
   "metadata": {},
   "outputs": [],
   "source": [
    "# Sort by 'Income' (descending)\n",
    "df_sorted = df.sort_values(by='Income', ascending=False)\n",
    "\n",
    "# Sort by multiple columns ('City' ascending, 'Income' descending)\n",
    "df_sorted_multiple = df.sort_values(by=['City', 'Income'], ascending=[True, False])\n"
   ]
  },
  {
   "cell_type": "markdown",
   "metadata": {},
   "source": [
    "# Merging "
   ]
  },
  {
   "cell_type": "code",
   "execution_count": 11,
   "metadata": {},
   "outputs": [],
   "source": [
    "# Sample second DataFrame\n",
    "data2 = {\n",
    "    'City': ['New York', 'Paris', 'Berlin', 'London'],\n",
    "    'Population': [8500000, 2148000, 3769000, 8982000]\n",
    "}\n",
    "df2 = pd.DataFrame(data2)\n",
    "\n",
    "# Merge DataFrames on 'City'\n",
    "merged_df = pd.merge(df, df2, on='City', how='inner')\n",
    "\n",
    "# Merge with left join\n",
    "merged_left = pd.merge(df, df2, on='City', how='left')\n"
   ]
  },
  {
   "cell_type": "markdown",
   "metadata": {},
   "source": [
    "# Pivoting and Reshaping"
   ]
  },
  {
   "cell_type": "code",
   "execution_count": 12,
   "metadata": {},
   "outputs": [],
   "source": [
    "df = df.drop_duplicates()\n",
    "# Pivot table showing average 'Income' for each 'City' and 'Gender'\n",
    "pivot_df = df.pivot_table(index='City', columns='Gender', values='Income', aggfunc='mean')\n",
    "\n",
    "# Unstack a multi-level index DataFrame (if applicable)\n",
    "df_unstacked = df.groupby(['City', 'Gender'])['Income'].mean().unstack()\n",
    "\n",
    "\n",
    "# Melt (unpivot) DataFrame\n",
    "df_melted = pd.melt(df, id_vars=['Name'], value_vars=['Income', 'Age'], var_name='Metric', value_name='Value')\n",
    "\n",
    "# Pivot (reshaping from long to wide)\n",
    "df_pivoted = df.pivot(index='Name', columns='City', values='Income')\n",
    "\n"
   ]
  },
  {
   "cell_type": "markdown",
   "metadata": {},
   "source": [
    "# Saving Data"
   ]
  },
  {
   "cell_type": "code",
   "execution_count": 13,
   "metadata": {},
   "outputs": [],
   "source": [
    "# Save DataFrame to CSV\n",
    "df.to_csv('cleaned_data.csv', index=False)\n",
    "\n",
    "# Save DataFrame to Excel\n",
    "df.to_excel('cleaned_data.xlsx', index=False)\n"
   ]
  }
 ],
 "metadata": {
  "kernelspec": {
   "display_name": "CSELEC3C",
   "language": "python",
   "name": "python3"
  },
  "language_info": {
   "codemirror_mode": {
    "name": "ipython",
    "version": 3
   },
   "file_extension": ".py",
   "mimetype": "text/x-python",
   "name": "python",
   "nbconvert_exporter": "python",
   "pygments_lexer": "ipython3",
   "version": "3.10.15"
  }
 },
 "nbformat": 4,
 "nbformat_minor": 2
}
